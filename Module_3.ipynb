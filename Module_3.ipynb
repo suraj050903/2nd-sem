{
  "nbformat": 4,
  "nbformat_minor": 0,
  "metadata": {
    "colab": {
      "name": "Module 3.ipynb",
      "provenance": [],
      "authorship_tag": "ABX9TyMTd5ANccj0JngJK7yo3cUC",
      "include_colab_link": true
    },
    "kernelspec": {
      "name": "python3",
      "display_name": "Python 3"
    },
    "language_info": {
      "name": "python"
    }
  },
  "cells": [
    {
      "cell_type": "markdown",
      "metadata": {
        "id": "view-in-github",
        "colab_type": "text"
      },
      "source": [
        "<a href=\"https://colab.research.google.com/github/suraj050903/2nd-sem/blob/main/Module_3.ipynb\" target=\"_parent\"><img src=\"https://colab.research.google.com/assets/colab-badge.svg\" alt=\"Open In Colab\"/></a>"
      ]
    },
    {
      "cell_type": "markdown",
      "source": [
        "# Read an entire text file"
      ],
      "metadata": {
        "id": "IjXpGh4YXwbB"
      }
    },
    {
      "cell_type": "code",
      "source": [
        "a=open(\"filename.txt\",\"r\")\n",
        "print(a.read())"
      ],
      "metadata": {
        "id": "lIzdTVlTXwmF"
      },
      "execution_count": null,
      "outputs": []
    },
    {
      "cell_type": "markdown",
      "source": [
        "# Read the first n lines of a file"
      ],
      "metadata": {
        "id": "BATb3FCyYAb3"
      }
    },
    {
      "cell_type": "code",
      "source": [
        "a=open(\"python.txt\",\"r\")\n",
        "b=int(input(\"Enter how many lines from file you want: \"))\n",
        "for i in range(0,b):\n",
        "    print(a.readline())"
      ],
      "metadata": {
        "id": "7U0ZfFhiYBu2"
      },
      "execution_count": null,
      "outputs": []
    },
    {
      "cell_type": "markdown",
      "source": [
        "# Append text to a file and display the text"
      ],
      "metadata": {
        "id": "346cYj2faM7o"
      }
    },
    {
      "cell_type": "code",
      "source": [
        "b = input(\"Enter the text you want to append to the file: \")\n",
        "a = open(\"python.txt\",\"a\")\n",
        "a.write(\"\\n\")\n",
        "a.write(b)\n",
        "a.close()\n",
        "a=open(\"python.txt\",\"r\")\n",
        "print(a.read())"
      ],
      "metadata": {
        "id": "Pp-N0SrQadwg"
      },
      "execution_count": null,
      "outputs": []
    },
    {
      "cell_type": "markdown",
      "source": [
        "# Read numbers from a file and write even and odd numbers to separate files"
      ],
      "metadata": {
        "id": "NOw_qKN8ae3s"
      }
    },
    {
      "cell_type": "code",
      "source": [
        ""
      ],
      "metadata": {
        "id": "6cG1dRFzad2U"
      },
      "execution_count": null,
      "outputs": []
    }
  ]
}